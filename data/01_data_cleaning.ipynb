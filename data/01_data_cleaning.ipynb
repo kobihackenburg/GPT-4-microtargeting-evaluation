{
 "cells": [
  {
   "cell_type": "code",
   "execution_count": 1,
   "metadata": {},
   "outputs": [],
   "source": [
    "import pandas as pd\n",
    "import scipy.stats as stats\n",
    "import statsmodels.formula.api as smf\n",
    "import statsmodels.stats.multicomp as multi\n",
    "import seaborn as sns\n",
    "import matplotlib.pyplot as plt\n",
    "import numpy as np\n",
    "import textwrap\n",
    "import matplotlib.ticker as ticker\n",
    "from statsmodels.stats.proportion import proportions_ztest\n",
    "from matplotlib.ticker import MaxNLocator\n",
    "from statsmodels.stats.multitest import multipletests\n",
    "import itertools"
   ]
  },
  {
   "cell_type": "code",
   "execution_count": 2,
   "metadata": {},
   "outputs": [],
   "source": [
    "# Constants\n",
    "COLUMNS_TO_CONVERT = ['age_targeted', 'ethnicity_targeted', 'gender_targeted', 'education_targeted', \n",
    "                      'religious_affiliation_targeted', 'occupation_targeted', \n",
    "                      'geographic_location_targeted', 'party_affiliation_targeted', \n",
    "                      'ideological_affiliation_targeted', 'political_engagement_targeted']\n",
    "COLUMNS_TO_DUMMY = ['treatment_condition', 'number_attributes_targeted']\n",
    "DV_RESPONSE_COLS = ['dv_response1', 'dv_response2', 'dv_response3', 'dv_response4', 'dv_response5']\n",
    "\n",
    "# Function to create dummy variables\n",
    "def create_dummies(df, column, prefix=None):\n",
    "    dummies = pd.get_dummies(df[column], prefix=prefix)\n",
    "    return pd.concat([df, dummies], axis=1)\n",
    "\n",
    "# Function to convert column values to binary\n",
    "def convert_to_binary(df, columns):\n",
    "    for col in columns:\n",
    "        df[col] = df[col].apply(lambda x: 1 if x == 't' else 0)\n",
    "    return df\n",
    "\n",
    "# Load data\n",
    "df = pd.read_csv('raw_data.csv')\n",
    "\n",
    "# Preprocess data\n",
    "df = df[df['attention_check'] == \"pass\"]\n",
    "# Correcting the typo in ~10 values in the 'meta_perception' column\n",
    "df['meta_perception'] = df['meta_perception'].replace(\"somehwhat_different\", \"somewhat_different\")\n",
    "\n",
    "for col in COLUMNS_TO_DUMMY:\n",
    "    prefix = 'a' if col == 'number_attributes_targeted' else None\n",
    "    df = create_dummies(df, col, prefix)\n",
    "df = convert_to_binary(df, COLUMNS_TO_CONVERT)\n",
    "\n",
    "# Reverse 'dv_response_2' and create the dependent variable measure\n",
    "df['dv_response2'] = 100 - df['dv_response2']\n",
    "df['dv_response_mean'] = df[DV_RESPONSE_COLS].mean(axis=1)"
   ]
  },
  {
   "cell_type": "code",
   "execution_count": 3,
   "metadata": {},
   "outputs": [],
   "source": [
    "# create new dataframes split by issue containing all conditions\n",
    "df_digital_privacy = df[df['issue_stance'] == \"The U.S. should not implement legislation that strengthens digital privacy rights\"]\n",
    "df_renewable_energy = df[df['issue_stance'] == \"The U.S. should increase investments in renewable energy technologies.\"]\n",
    "df_china_sanctions = df[df['issue_stance'] == \"The U.S. should impose stronger economic sanctions on China.\"]\n",
    "df_nato_support = df[df['issue_stance'] == \"The U.S. should not increase its support for NATO.\"]\n",
    "\n",
    "# Create new dataframes split by issue and containing only 'microtargeting' and 'no microtargeting' conditions\n",
    "df_mt_bm = df[df['treatment_condition'].isin(['microtargeting', 'no microtargeting'])]\n",
    "df_mt_bm_digital_privacy = df_digital_privacy[df_digital_privacy['treatment_condition'].isin(['microtargeting', 'no microtargeting'])]\n",
    "df_mt_bm_renewable_energy = df_renewable_energy[df_renewable_energy['treatment_condition'].isin(['microtargeting', 'no microtargeting'])]\n",
    "df_mt_bm_china_sanctions = df_china_sanctions[df_china_sanctions['treatment_condition'].isin(['microtargeting', 'no microtargeting'])]\n",
    "df_mt_bm_nato_support = df_nato_support[df_nato_support['treatment_condition'].isin(['microtargeting', 'no microtargeting'])]"
   ]
  }
 ],
 "metadata": {
  "kernelspec": {
   "display_name": "base",
   "language": "python",
   "name": "python3"
  },
  "language_info": {
   "codemirror_mode": {
    "name": "ipython",
    "version": 3
   },
   "file_extension": ".py",
   "mimetype": "text/x-python",
   "name": "python",
   "nbconvert_exporter": "python",
   "pygments_lexer": "ipython3",
   "version": "3.10.9"
  },
  "orig_nbformat": 4
 },
 "nbformat": 4,
 "nbformat_minor": 2
}
